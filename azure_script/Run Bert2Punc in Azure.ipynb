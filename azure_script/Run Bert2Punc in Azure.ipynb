{
  "cells": [
    {
      "cell_type": "markdown",
      "source": [
        "# Run Bert2Punc in Azure\r\n",
        "This is the script you can run to train the Bert2Punc model.\r\n",
        "To see the needed project organization to get to current code to work, see below"
      ],
      "metadata": {
        "nteract": {
          "transient": {
            "deleting": false
          }
        }
      }
    },
    {
      "cell_type": "markdown",
      "source": [
        "Project Organization\r\n",
        "\r\n",
        "------------\r\n",
        "    ├── Run Bert2Punc in Azure  <- The current file\r\n",
        "    ├── src\r\n",
        "    │   ├── data\r\n",
        "    │   │   └── processed       <- Data generated from running make_dataset.py\r\n",
        "    │   │\r\n",
        "    │   └── models\r\n",
        "    │       ├── azure_train_model_pl.py     <- The script to run\r\n",
        "    │       └── model_pl.py                 <- Model to train\r\n",
        "    │\r\n",
        "    ├── conda_dependencies.yml  <- To create environment\r\n",
        "    │\r\n",
        "    └── variables.py    <- To navigate around the different folders"
      ],
      "metadata": {
        "nteract": {
          "transient": {
            "deleting": false
          }
        }
      }
    },
    {
      "cell_type": "code",
      "source": [
        "import azureml.core\r\n",
        "from azureml.core import Dataset, Workspace, Experiment, ScriptRunConfig, Environment, Run\r\n",
        "from azureml.core.compute import ComputeTarget, AmlCompute\r\n",
        "from azureml.core.compute_target import ComputeTargetException\r\n",
        "from azureml.core.conda_dependencies import CondaDependencies\r\n",
        "\r\n",
        "from azureml.widgets import RunDetails"
      ],
      "outputs": [],
      "execution_count": null,
      "metadata": {
        "collapsed": true,
        "jupyter": {
          "source_hidden": false,
          "outputs_hidden": false
        },
        "nteract": {
          "transient": {
            "deleting": false
          }
        },
        "gather": {
          "logged": 1624469183142
        }
      }
    },
    {
      "cell_type": "code",
      "source": [
        "subscription_id = 'your_subscription_id'\r\n",
        "resource_group = 'your_resource_group'\r\n",
        "workspace_name = 'your_workspace'\r\n",
        "\r\n",
        "#log-in to your workspace\r\n",
        "ws = Workspace(subscription_id, resource_group, workspace_name)\r\n",
        "\r\n",
        "#Alternativly you can run this:\r\n",
        "# Load the workspace from the saved config file\r\n",
        "#ws = Workspace.from_config() # This automatically looks for a directory .azureml\r\n",
        "#print('Ready to use Azure ML {} to work with {}'.format(azureml.core.VERSION, ws.name))"
      ],
      "outputs": [],
      "execution_count": null,
      "metadata": {
        "collapsed": true,
        "jupyter": {
          "source_hidden": false,
          "outputs_hidden": false
        },
        "nteract": {
          "transient": {
            "deleting": false
          }
        },
        "gather": {
          "logged": 1624465248452
        }
      }
    },
    {
      "cell_type": "markdown",
      "source": [
        "## Create a compute cluster\r\n",
        "You can either use your current compute instance, or you can create a new compute cluster "
      ],
      "metadata": {
        "nteract": {
          "transient": {
            "deleting": false
          }
        }
      }
    },
    {
      "cell_type": "code",
      "source": [
        "#cluster_name = \"gpu-cluster\"\r\n",
        "cluster_name = 'Bert2Punc'\r\n",
        "try:\r\n",
        "    compute_target = ComputeTarget(workspace=ws, name=cluster_name)\r\n",
        "    print('Found existing compute target')\r\n",
        "except ComputeTargetException:\r\n",
        "    print('Creating a new compute target...')\r\n",
        "    compute_config = AmlCompute.provisioning_configuration(vm_size='STANDARD_NC6', \r\n",
        "                                                           max_nodes=4,\r\n",
        "                                                           min_nodes = 1)\r\n",
        "\r\n",
        "    compute_target = ComputeTarget.create(ws, cluster_name, compute_config)\r\n",
        "\r\n",
        "    compute_target.wait_for_completion(show_output=True, min_node_count=None, timeout_in_minutes=20)\r\n",
        "\r\n",
        "#Alternative to use CPU\r\n",
        "\r\n",
        "# Choose a name for your CPU cluster\r\n",
        "#cpu_cluster_name = \"Bert2PuncCPU\"\r\n",
        "\r\n",
        "# Verify that the cluster does not exist already\r\n",
        "#try:\r\n",
        "#    cpu_cluster = ComputeTarget(workspace=ws, name=cpu_cluster_name)\r\n",
        "#    print('Found existing cluster, use it.')\r\n",
        "#except ComputeTargetException:\r\n",
        "#    compute_config = AmlCompute.provisioning_configuration(vm_size='Standard_DS12_v2',\r\n",
        "#                                                           max_nodes=4)\r\n",
        "#    cpu_cluster = ComputeTarget.create(ws, cpu_cluster_name, compute_config)\r\n",
        "\r\n",
        "#cpu_cluster.wait_for_completion(show_output=True)\r\n"
      ],
      "outputs": [],
      "execution_count": null,
      "metadata": {
        "collapsed": true,
        "jupyter": {
          "source_hidden": false,
          "outputs_hidden": false
        },
        "nteract": {
          "transient": {
            "deleting": false
          }
        },
        "gather": {
          "logged": 1624465268266
        }
      }
    },
    {
      "cell_type": "markdown",
      "source": [
        "## Set up environment \r\n",
        "Now you'll need to set up the environment to run the training script in. The needed packages to load is in the ``conda_dependencies`` file"
      ],
      "metadata": {
        "nteract": {
          "transient": {
            "deleting": false
          }
        }
      }
    },
    {
      "cell_type": "code",
      "source": [
        "# Create a Python environment for the experiment\r\n",
        "env = Environment.from_conda_specification(name='Bert2Punc',file_path='./conda_dependencies.yml')\r\n",
        "\r\n",
        "#define experiment\r\n",
        "experiment = Experiment(workspace=ws, name='Bert2Punc_pl')\r\n",
        "\r\n",
        "#submit the script to the environment to run it on the created compute target\r\n",
        "config = ScriptRunConfig(source_directory='./src',\r\n",
        "                            script='./models/azure_train_model_pl.py',\r\n",
        "                            arguments= [\r\n",
        "                                '--gpus', 1,\r\n",
        "                                '--max_epochs', 2,\r\n",
        "                                '--precision', 16\r\n",
        "                            ],\r\n",
        "                            compute_target=\"Bert2PuncGPU\",\r\n",
        "                            environment=env) \r\n",
        "\r\n",
        "config.run_config.environment = env\r\n",
        "\r\n",
        "run = experiment.submit(config)\r\n",
        "RunDetails(run).show()\r\n",
        "run.wait_for_completion(show_output=True)"
      ],
      "outputs": [],
      "execution_count": null,
      "metadata": {
        "collapsed": true,
        "jupyter": {
          "source_hidden": false,
          "outputs_hidden": false
        },
        "nteract": {
          "transient": {
            "deleting": false
          }
        }
      }
    }
  ],
  "metadata": {
    "kernelspec": {
      "name": "python38-azureml",
      "language": "python",
      "display_name": "Python 3.8 - AzureML"
    },
    "language_info": {
      "name": "python",
      "version": "3.8.1",
      "mimetype": "text/x-python",
      "codemirror_mode": {
        "name": "ipython",
        "version": 3
      },
      "pygments_lexer": "ipython3",
      "nbconvert_exporter": "python",
      "file_extension": ".py"
    },
    "kernel_info": {
      "name": "python38-azureml"
    },
    "nteract": {
      "version": "nteract-front-end@1.0.0"
    },
    "microsoft": {
      "host": {
        "AzureML": {
          "notebookHasBeenCompleted": true
        }
      }
    }
  },
  "nbformat": 4,
  "nbformat_minor": 2
}